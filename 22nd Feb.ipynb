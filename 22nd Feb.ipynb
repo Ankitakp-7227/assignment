{
 "cells": [
  {
   "cell_type": "code",
   "execution_count": 1,
   "id": "5fd2c9bc-c6ae-469a-b261-1bc4716c6132",
   "metadata": {},
   "outputs": [],
   "source": [
    "import pandas as pd"
   ]
  },
  {
   "cell_type": "code",
   "execution_count": 2,
   "id": "a0960c29-8d2b-4d4a-8d19-b4462273d5d0",
   "metadata": {},
   "outputs": [],
   "source": [
    "#Q.no : 01\n",
    "data =  [4, 8, 15, 16, 23, 42]"
   ]
  },
  {
   "cell_type": "code",
   "execution_count": 3,
   "id": "e4d613fa-1151-4428-936b-45104024dcdf",
   "metadata": {},
   "outputs": [],
   "source": [
    "series = pd.Series(data)"
   ]
  },
  {
   "cell_type": "code",
   "execution_count": 4,
   "id": "a6ff735f-143a-47e3-a649-c163addcd0a8",
   "metadata": {},
   "outputs": [
    {
     "name": "stdout",
     "output_type": "stream",
     "text": [
      "0     4\n",
      "1     8\n",
      "2    15\n",
      "3    16\n",
      "4    23\n",
      "5    42\n",
      "dtype: int64\n"
     ]
    }
   ],
   "source": [
    "print(series)"
   ]
  },
  {
   "cell_type": "code",
   "execution_count": 5,
   "id": "7d8f54b1-948d-4830-a888-67fcd62faa5d",
   "metadata": {},
   "outputs": [
    {
     "data": {
      "text/plain": [
       "pandas.core.series.Series"
      ]
     },
     "execution_count": 5,
     "metadata": {},
     "output_type": "execute_result"
    }
   ],
   "source": [
    "type(series)"
   ]
  },
  {
   "cell_type": "code",
   "execution_count": 6,
   "id": "68b11d54-3429-47ad-86c6-ecdf6d170dea",
   "metadata": {},
   "outputs": [
    {
     "name": "stdout",
     "output_type": "stream",
     "text": [
      "0    1\n",
      "1    2\n",
      "2    3\n",
      "3    4\n",
      "4    5\n",
      "5    6\n",
      "6    9\n",
      "7    8\n",
      "8    7\n",
      "9    6\n",
      "dtype: int64\n"
     ]
    }
   ],
   "source": [
    "#Q.no : 02\n",
    "data1 = [1,2,3,4,5,6,9,8,7,6]\n",
    "print(pd.Series(data1))"
   ]
  },
  {
   "cell_type": "code",
   "execution_count": 7,
   "id": "4d7d9c9c-e6d4-4a72-a73e-2fcf3a5fb918",
   "metadata": {},
   "outputs": [],
   "source": [
    "#Q.no : 3\n",
    "d = {\"Name\":[\"Alice\",\"Bob\",\"Claire\"],\"Age\":[25,30,27],\"Gender\":[\"Female\",\"Male\",\"Male\"]}\n",
    "df = pd.DataFrame(d)"
   ]
  },
  {
   "cell_type": "code",
   "execution_count": 8,
   "id": "117308ad-7d94-40e0-874c-1dcad0fc69a9",
   "metadata": {},
   "outputs": [
    {
     "data": {
      "text/html": [
       "<div>\n",
       "<style scoped>\n",
       "    .dataframe tbody tr th:only-of-type {\n",
       "        vertical-align: middle;\n",
       "    }\n",
       "\n",
       "    .dataframe tbody tr th {\n",
       "        vertical-align: top;\n",
       "    }\n",
       "\n",
       "    .dataframe thead th {\n",
       "        text-align: right;\n",
       "    }\n",
       "</style>\n",
       "<table border=\"1\" class=\"dataframe\">\n",
       "  <thead>\n",
       "    <tr style=\"text-align: right;\">\n",
       "      <th></th>\n",
       "      <th>Name</th>\n",
       "      <th>Age</th>\n",
       "      <th>Gender</th>\n",
       "    </tr>\n",
       "  </thead>\n",
       "  <tbody>\n",
       "    <tr>\n",
       "      <th>0</th>\n",
       "      <td>Alice</td>\n",
       "      <td>25</td>\n",
       "      <td>Female</td>\n",
       "    </tr>\n",
       "    <tr>\n",
       "      <th>1</th>\n",
       "      <td>Bob</td>\n",
       "      <td>30</td>\n",
       "      <td>Male</td>\n",
       "    </tr>\n",
       "    <tr>\n",
       "      <th>2</th>\n",
       "      <td>Claire</td>\n",
       "      <td>27</td>\n",
       "      <td>Male</td>\n",
       "    </tr>\n",
       "  </tbody>\n",
       "</table>\n",
       "</div>"
      ],
      "text/plain": [
       "     Name  Age  Gender\n",
       "0   Alice   25  Female\n",
       "1     Bob   30    Male\n",
       "2  Claire   27    Male"
      ]
     },
     "execution_count": 8,
     "metadata": {},
     "output_type": "execute_result"
    }
   ],
   "source": [
    "df"
   ]
  },
  {
   "cell_type": "markdown",
   "id": "044e36e2-4d83-405b-b853-2dfb5ffd43ee",
   "metadata": {},
   "source": [
    "Q.no : 4\n",
    "soln: Data frame is a tabular form of data in which each column contains the value of one variable and each rows is a set of columns. DataFrames are mutable but series are immutable"
   ]
  },
  {
   "cell_type": "markdown",
   "id": "21174f8b-0b46-4b7f-a96d-d78c2db13178",
   "metadata": {},
   "source": [
    "Qno 5:\n",
    "soln: Data manipulation in pandas:\n",
    "1) Dropping columns in the data.\n",
    "2) Dropping rows in the data.\n",
    "3) Renaming a column in the dataset.\n",
    "4) Select columns with specific data types.\n",
    "5) Slicing the dataset.\n",
    "Ex:-1. to drop null values from dataframe we use \"pd.dropna()\", 2. drop column from dataframe by using \"df.drop(['column'], axis= 1),....etc"
   ]
  },
  {
   "cell_type": "markdown",
   "id": "61d9b233-2d00-4db2-9d70-df301a2fac81",
   "metadata": {},
   "source": [
    "Qno.6 : \n",
    "DataFrame and Panel are mutable"
   ]
  },
  {
   "cell_type": "code",
   "execution_count": 9,
   "id": "f6a016f6-d28b-409a-9a9a-17c275d94f73",
   "metadata": {},
   "outputs": [],
   "source": [
    "#Q.no7:\n",
    "Name= ['Alice','Bob','Clair']\n",
    "Age = [25,30,27]\n",
    "Gender = ['Female','Male','Female']"
   ]
  },
  {
   "cell_type": "code",
   "execution_count": 10,
   "id": "51f7ce6f-3979-4840-91aa-d24bf8200553",
   "metadata": {},
   "outputs": [],
   "source": [
    "s1 = pd.Series(Name)\n",
    "s2 = pd.Series(Age)\n",
    "s3 = pd.Series(Gender)"
   ]
  },
  {
   "cell_type": "code",
   "execution_count": null,
   "id": "cfa87ad9-ee92-464d-b544-ce5e231f4b3b",
   "metadata": {},
   "outputs": [],
   "source": [
    "df1 = pd.d"
   ]
  }
 ],
 "metadata": {
  "kernelspec": {
   "display_name": "Python 3 (ipykernel)",
   "language": "python",
   "name": "python3"
  },
  "language_info": {
   "codemirror_mode": {
    "name": "ipython",
    "version": 3
   },
   "file_extension": ".py",
   "mimetype": "text/x-python",
   "name": "python",
   "nbconvert_exporter": "python",
   "pygments_lexer": "ipython3",
   "version": "3.10.8"
  }
 },
 "nbformat": 4,
 "nbformat_minor": 5
}
